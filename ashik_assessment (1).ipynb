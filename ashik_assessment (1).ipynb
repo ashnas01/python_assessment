{
 "cells": [
  {
   "cell_type": "code",
   "execution_count": 2,
   "id": "a51a7745",
   "metadata": {},
   "outputs": [
    {
     "name": "stdout",
     "output_type": "stream",
     "text": [
      "['e', 'd', 'c', 'b', 'a']\n"
     ]
    }
   ],
   "source": [
    "###1. write the output of the following\n",
    "\n",
    "k=['a','b','c','d','e']\n",
    "print(k[-1:-7:-1])"
   ]
  },
  {
   "cell_type": "code",
   "execution_count": 42,
   "id": "35df1d9e",
   "metadata": {},
   "outputs": [
    {
     "name": "stdout",
     "output_type": "stream",
     "text": [
      "Reversed list is [500, 400, 300, 200, 100]\n"
     ]
    }
   ],
   "source": [
    "###2. Reverse a list using python\n",
    "\n",
    "list1=[100,200,300,400,500]\n",
    "n=len(list1)\n",
    "list1.reverse()\n",
    "print(f\"Reversed list is {list1}\")"
   ]
  },
  {
   "cell_type": "code",
   "execution_count": 4,
   "id": "8aaa19d7",
   "metadata": {},
   "outputs": [
    {
     "name": "stdout",
     "output_type": "stream",
     "text": [
      "Enter the 1st number 2\n",
      "Enter the 2nd number 4\n",
      "b is larger\n"
     ]
    }
   ],
   "source": [
    "###3. Given two numbers,write a python code to find the maximum of these two numbers\n",
    "                    ## sample a=2,b=4\n",
    "\n",
    "a=int(input(\"Enter the 1st number \"))\n",
    "b=int(input(\"Enter the 2nd number \"))\n",
    "if(a>b):\n",
    "    print(\"a is larger\")\n",
    "else:\n",
    "    print(\"b is larger\")"
   ]
  },
  {
   "cell_type": "code",
   "execution_count": 8,
   "id": "9ac9ae1c",
   "metadata": {},
   "outputs": [
    {
     "name": "stdout",
     "output_type": "stream",
     "text": [
      "Enter the number 5\n",
      "The square of the number 5 is 25\n"
     ]
    }
   ],
   "source": [
    "###4. Write a python program to find the square of 5\n",
    "\n",
    "x=int(input(\"Enter the number \"))\n",
    "sq=x*x\n",
    "print(f\"The square of the number {x} is {sq}\")"
   ]
  },
  {
   "cell_type": "code",
   "execution_count": 11,
   "id": "49d446d7",
   "metadata": {},
   "outputs": [
    {
     "name": "stdout",
     "output_type": "stream",
     "text": [
      "dict_values([100, 200, 300])\n",
      "Sum of all the items in the dictionary is 600\n"
     ]
    }
   ],
   "source": [
    "###5. Write a python program to find the sum of all iems in a dictionary\n",
    "                ##input:{'a':100,'b':200,'c':300}\n",
    "    \n",
    "dict={'a':100,'b':200,'c':300}\n",
    "print(dict.values())\n",
    "s=sum(dict.values())\n",
    "print(f\"Sum of all the items in the dictionary is {s}\")"
   ]
  },
  {
   "cell_type": "code",
   "execution_count": 20,
   "id": "de2d8e2b",
   "metadata": {},
   "outputs": [
    {
     "name": "stdout",
     "output_type": "stream",
     "text": [
      "Enter the number of rows 5\n",
      "*\n",
      "**\n",
      "***\n",
      "****\n",
      "*****\n",
      "****\n",
      "***\n",
      "**\n",
      "*\n"
     ]
    }
   ],
   "source": [
    "###7. Write a python program to construct the following pattern using nested for loop\n",
    "\n",
    "r=int(input(\"Enter the number of rows \"))\n",
    "for i in range (1,r+1):\n",
    "    for j in range(i,0,-1):\n",
    "        print('*',end=\"\")\n",
    "    print(\"\\r\")\n",
    "    \n",
    "for i in range (r-1,0,-1):\n",
    "    for j in range(0,i):\n",
    "        print('*',end=\"\")\n",
    "    print(\"\\r\")"
   ]
  },
  {
   "cell_type": "code",
   "execution_count": 22,
   "id": "9227e82a",
   "metadata": {},
   "outputs": [
    {
     "name": "stdout",
     "output_type": "stream",
     "text": [
      "Enter the number  3\n",
      "The factorial of the number 3 is 6\n"
     ]
    }
   ],
   "source": [
    "###8. Write a python program to find the factorial of a non negative integer number.\n",
    "##The function accepts the number as an argument.\n",
    "\n",
    "def factorial(n):\n",
    "    fact=1\n",
    "    for i in range (1,n+1):\n",
    "        fact=fact*i\n",
    "    print(f\"The factorial of the number {n} is {fact}\")\n",
    "    \n",
    "n=int(input(\"Enter the number  \"))\n",
    "factorial(n)"
   ]
  },
  {
   "cell_type": "code",
   "execution_count": 33,
   "id": "42472d8b",
   "metadata": {},
   "outputs": [
    {
     "name": "stdout",
     "output_type": "stream",
     "text": [
      "Duplicate items are [20, 30, 60]\n"
     ]
    }
   ],
   "source": [
    "###9. Display all the duplicate items in the list given:\n",
    "               ###10,20,60,30,20,40,30,60,70,80\n",
    "    \n",
    "list2=[10,20,60,30,20,40,30,60,70,80]\n",
    "list3=[]\n",
    "dup=[]\n",
    "for i in list2:\n",
    "    if(i not in list3):\n",
    "        list3.append(i)\n",
    "    else:\n",
    "        dup.append(i)\n",
    "\n",
    "print(f\"Duplicate items are {dup}\")"
   ]
  },
  {
   "cell_type": "code",
   "execution_count": 44,
   "id": "c9133e47",
   "metadata": {},
   "outputs": [
    {
     "name": "stdout",
     "output_type": "stream",
     "text": [
      "Enter the string scissors\n",
      "The characters in the even index numbers of the string are ['s', 'i', 's', 'r']\n"
     ]
    }
   ],
   "source": [
    "###10. Write a program to accept a string from the user and display the characters present at an even index number\n",
    "\n",
    "p=input(\"Enter the string \")\n",
    "m=len(p)\n",
    "char=[]\n",
    "for i in range (0,m,2):\n",
    "    char.append(p[i])\n",
    "    \n",
    "print(f\"The characters in the even index numbers of the string are {char}\")"
   ]
  },
  {
   "cell_type": "code",
   "execution_count": 1,
   "id": "20b5f5c1",
   "metadata": {},
   "outputs": [
    {
     "name": "stdout",
     "output_type": "stream",
     "text": [
      "Enter the number 18\n",
      "18 17 16 15 14 13 12 11 10 9 8 7 6 5 4 3 2 1 "
     ]
    }
   ],
   "source": [
    "###11. write a python program to print the numbers from a given number n till 1 using recursion\n",
    "\n",
    "def Number(n):\n",
    "    if n > 0:\n",
    "        print(n, end = ' ')\n",
    "        Number(n-1)\n",
    "        \n",
    "n = int(input(\"Enter the number \"))\n",
    "Number(n)"
   ]
  },
  {
   "cell_type": "markdown",
   "id": "917734e7",
   "metadata": {},
   "source": []
  },
  {
   "cell_type": "code",
   "execution_count": 2,
   "id": "4d7e0e71",
   "metadata": {},
   "outputs": [
    {
     "name": "stdout",
     "output_type": "stream",
     "text": [
      "Enter the string tfuyg67\n",
      "The alphabets in the string are  tfuyg\n"
     ]
    }
   ],
   "source": [
    "###13.  write a while loop to display only alphabets from a string\n",
    "\n",
    "str=input(\"Enter the string \")\n",
    "lower=\"abcdefghijklmnopqrstuvwxyz\"\n",
    "upper=\"ABCDEFGHIJKLMNOPQRSTUVWXYZ\"\n",
    "a=lower+upper\n",
    "\n",
    "result = \" \"\n",
    "while len(str)>len(result):\n",
    "    for i in str:\n",
    "        if i in a:\n",
    "            result+=i\n",
    "    break\n",
    "print(f\"The alphabets in the string are {result}\")\n",
    "\n"
   ]
  },
  {
   "cell_type": "code",
   "execution_count": 9,
   "id": "e4c5ae40",
   "metadata": {},
   "outputs": [
    {
     "name": "stdout",
     "output_type": "stream",
     "text": [
      "do you want to convert celsius to fahrenheit??? (y/n)    y\n",
      "Enter temperature in celsius: 100\n",
      "100.0 Celsius is 212.0 Fahrenheit\n"
     ]
    }
   ],
   "source": [
    "###15.  python program to convert temperature in degree celsius to fahrenheit and viceversa\n",
    "\n",
    "c=input(\"do you want to convert celsius to fahrenheit??? (y/n)    \")\n",
    "if c=='y':\n",
    "    celsius = float(input(\"Enter temperature in celsius: \"))\n",
    "    fahrenheit = (celsius * 9/5) + 32\n",
    "    print(f\"{celsius} Celsius is {fahrenheit} Fahrenheit\")\n",
    "\n",
    "elif c=='n':\n",
    "          fahrenheit = float(input(\"Enter temperature in fahrenheit: \"))\n",
    "          celsius = (fahrenheit - 32) * 5/9\n",
    "          print(f\"{fahrenheit} Fahrenheit is {celsius} Celsius\")\n",
    "        \n",
    "else:\n",
    "    print(\"Wrong choice\")"
   ]
  },
  {
   "cell_type": "code",
   "execution_count": 13,
   "id": "9c32dcbf",
   "metadata": {},
   "outputs": [
    {
     "name": "stdout",
     "output_type": "stream",
     "text": [
      "before modification : [5, [10, 15, [20, 25, [30, 35], 40], 45], 50]\n",
      "after modification : [5, [10, 15, [20, 25, [30, 3500], 40], 45], 50]\n"
     ]
    }
   ],
   "source": [
    "###12. modify the element of a nested list inside the following list\n",
    "\n",
    "l=[5,[10,15,[20,25,[30,35],40],45],50]\n",
    "print(f\"before modification : {l}\")\n",
    "l[1][2][2][1]=3500\n",
    "print(f\"after modification : {l}\")"
   ]
  },
  {
   "cell_type": "code",
   "execution_count": 15,
   "id": "153864e2",
   "metadata": {},
   "outputs": [
    {
     "name": "stdout",
     "output_type": "stream",
     "text": [
      "current date : 2022-12-11\n",
      "Current year : 2022\n",
      "Current month : 12\n",
      "Current day : 11\n"
     ]
    }
   ],
   "source": [
    "##6. write the python program to print the current year,month and day\n",
    "\n",
    "from datetime import date\n",
    "today=date.today()\n",
    "print(f\"current date : {today}\")\n",
    "\n",
    "print(f\"Current year : {today.year}\")\n",
    "print(f\"Current month : {today.month}\")\n",
    "print(f\"Current day : {today.day}\")"
   ]
  },
  {
   "cell_type": "code",
   "execution_count": null,
   "id": "5af5d3ae",
   "metadata": {},
   "outputs": [],
   "source": []
  }
 ],
 "metadata": {
  "kernelspec": {
   "display_name": "Python 3 (ipykernel)",
   "language": "python",
   "name": "python3"
  },
  "language_info": {
   "codemirror_mode": {
    "name": "ipython",
    "version": 3
   },
   "file_extension": ".py",
   "mimetype": "text/x-python",
   "name": "python",
   "nbconvert_exporter": "python",
   "pygments_lexer": "ipython3",
   "version": "3.9.13"
  }
 },
 "nbformat": 4,
 "nbformat_minor": 5
}
